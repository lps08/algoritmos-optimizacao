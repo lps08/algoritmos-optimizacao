{
 "cells": [
  {
   "cell_type": "code",
   "execution_count": 1,
   "metadata": {},
   "outputs": [],
   "source": [
    "import math\n",
    "import time\n",
    "import random\n",
    "import copy"
   ]
  },
  {
   "cell_type": "markdown",
   "metadata": {},
   "source": [
    "## Problema Dormitórios"
   ]
  },
  {
   "cell_type": "code",
   "execution_count": 2,
   "metadata": {},
   "outputs": [],
   "source": [
    "dormitorios = ['sao paulo', 'flamengo', 'coritiba', 'cruzeiro', 'fortaleza']\n",
    "\n",
    "preferencias = {\n",
    "    'amanda' : ('cruzeiro', 'coritiba'),\n",
    "    'pedro' : ('sao paulo', 'fortaleza'),\n",
    "    'marcos' : ('flamengo', 'sao paulo'),\n",
    "    'priscila' : ('sao paulo', 'fortaleza'),\n",
    "    'jessica' : ('flamengo', 'cruzeiro'),\n",
    "    'paulo' : ('coritiba', 'fortaleza'),\n",
    "    'fred' : ('fortaleza', 'flamengo'),\n",
    "    'suzana' : ('cruzeiro', 'coritiba'),\n",
    "    'laura' : ('cruzeiro', 'coritiba'),\n",
    "    'ricardo' : ('coritiba', 'flamengo')\n",
    "}"
   ]
  },
  {
   "cell_type": "code",
   "execution_count": 3,
   "metadata": {},
   "outputs": [
    {
     "data": {
      "text/plain": [
       "[(0, 9),\n",
       " (0, 8),\n",
       " (0, 7),\n",
       " (0, 6),\n",
       " (0, 5),\n",
       " (0, 4),\n",
       " (0, 3),\n",
       " (0, 2),\n",
       " (0, 1),\n",
       " (0, 0)]"
      ]
     },
     "execution_count": 3,
     "metadata": {},
     "output_type": "execute_result"
    }
   ],
   "source": [
    "dominio = [(0, (len(dormitorios) * 2) - i - 1) for i in range(len(dormitorios) * 2)]\n",
    "dominio"
   ]
  },
  {
   "cell_type": "code",
   "execution_count": 4,
   "metadata": {},
   "outputs": [
    {
     "name": "stdout",
     "output_type": "stream",
     "text": [
      "amanda cruzeiro\n",
      "pedro sao paulo\n",
      "marcos flamengo\n",
      "priscila flamengo\n",
      "jessica coritiba\n",
      "paulo sao paulo\n",
      "fred fortaleza\n",
      "suzana fortaleza\n",
      "laura coritiba\n",
      "ricardo cruzeiro\n"
     ]
    }
   ],
   "source": [
    "def print_vagas(solucao:list):\n",
    "    vagas = []\n",
    "\n",
    "    for i in range(len(dormitorios)):\n",
    "        # deminstrar que para cada quarto haverá duas vagas\n",
    "        # ex: 0, 0, 1, 1. Indo pelo indice dos dormitorios\n",
    "        vagas += [i, i]\n",
    "\n",
    "    for i in range(len(solucao)):\n",
    "        # pega o numero do indice do dormitorio\n",
    "        dormitorio = dormitorios[vagas[solucao[i]]]\n",
    "        print(list(preferencias.keys())[i], dormitorio)\n",
    "        # apos preencher a vaga, retira ela\n",
    "        # limpa a lista de vagas\n",
    "        del vagas[solucao[i]]\n",
    "\n",
    "print_vagas(solucao=[6,1,2,1,2,0,2,2,0,0])"
   ]
  },
  {
   "cell_type": "code",
   "execution_count": 5,
   "metadata": {},
   "outputs": [
    {
     "data": {
      "text/plain": [
       "16"
      ]
     },
     "execution_count": 5,
     "metadata": {},
     "output_type": "execute_result"
    }
   ],
   "source": [
    "def custo_dormitorio(solucao:list):\n",
    "    vagas = []\n",
    "    custo = 0\n",
    "\n",
    "    for i in range(len(dormitorios)):\n",
    "        # deminstrar que para cada quarto haverá duas vagas\n",
    "        # ex: 0, 0, 1, 1. Indo pelo indice dos dormitorios\n",
    "        vagas += [i, i]\n",
    "\n",
    "    for i in range(len(solucao)):\n",
    "        # pega o dormitorio na posicao i\n",
    "        dormitorio = dormitorios[vagas[solucao[i]]]\n",
    "        # recupera as preferencias da pessoa atual na posicao i\n",
    "        pref = preferencias.get(list(preferencias.keys())[i])\n",
    "        \n",
    "        # primeiro quarto desejado\n",
    "        if dormitorio == pref[0]:\n",
    "            pass\n",
    "        # segunda preferencia + 1 pen\n",
    "        elif dormitorio == pref[1]:\n",
    "            custo += 1\n",
    "        # nenhuma das duas + 3 pen\n",
    "        else:\n",
    "            custo += 3\n",
    "\n",
    "        del vagas[solucao[i]]\n",
    "\n",
    "    return custo\n",
    "\n",
    "\n",
    "custo_dormitorio(solucao=[6,1,2,1,2,0,2,2,0,0])"
   ]
  },
  {
   "cell_type": "markdown",
   "metadata": {},
   "source": [
    "## Busca randômica"
   ]
  },
  {
   "cell_type": "code",
   "execution_count": 14,
   "metadata": {},
   "outputs": [
    {
     "data": {
      "text/plain": [
       "6"
      ]
     },
     "execution_count": 14,
     "metadata": {},
     "output_type": "execute_result"
    }
   ],
   "source": [
    "def busca_randomica(dominio, funcao_custo, numero_solucao):\n",
    "    melhor_custo = 999\n",
    "    melhor_solucao = None\n",
    "\n",
    "    for i in range(numero_solucao):\n",
    "        # gera uma solucao randomica\n",
    "        solucao = [random.randint(dominio[i][0], dominio[i][1]) for i in range(len(dominio))]\n",
    "\n",
    "        # calcula os custos\n",
    "        custo_solucao = funcao_custo(solucao)\n",
    "\n",
    "        # verifica se a solucao foi melhor\n",
    "        if custo_solucao < melhor_custo:\n",
    "            melhor_custo = custo_solucao\n",
    "            melhor_solucao = solucao\n",
    "\n",
    "    return melhor_solucao\n",
    "\n",
    "custo_dormitorio(busca_randomica(dominio=dominio, funcao_custo=custo_dormitorio, numero_solucao=1000))\n"
   ]
  },
  {
   "cell_type": "markdown",
   "metadata": {},
   "source": [
    "## Hill Climb"
   ]
  },
  {
   "cell_type": "code",
   "execution_count": 24,
   "metadata": {},
   "outputs": [
    {
     "data": {
      "text/plain": [
       "5"
      ]
     },
     "execution_count": 24,
     "metadata": {},
     "output_type": "execute_result"
    }
   ],
   "source": [
    "def hill_climb(dominio, funcao_custo):\n",
    "    # gera uma solucao randomica\n",
    "    solucao = busca_randomica(dominio=dominio, funcao_custo=funcao_custo, numero_solucao=1000)\n",
    "\n",
    "    while True:\n",
    "        vizinhos = []\n",
    "\n",
    "        for i in range(len(dominio)):\n",
    "            # verifica se o numero é menor que o valor maximo\n",
    "            if solucao[i] < dominio[i][1]:\n",
    "                # copia a solucao\n",
    "                novo_vizinho = copy.deepcopy(solucao)\n",
    "                # modifica o vizinho na posicao i em +1\n",
    "                novo_vizinho[i] = novo_vizinho[i] + 1\n",
    "                vizinhos.append(novo_vizinho)\n",
    "            \n",
    "            # verifica se o valor é maior que o menor valor\n",
    "            if solucao[i] > dominio[i][0]:\n",
    "                novo_vizinho = copy.deepcopy(solucao)\n",
    "                # modifica o vizinho na posicao i em -1\n",
    "                novo_vizinho[i] = novo_vizinho[i] - 1\n",
    "\n",
    "        # verifica o custo da soluca\n",
    "        atual = funcao_custo(solucao)\n",
    "        # adiciona \n",
    "        melhor = atual\n",
    "\n",
    "        for i in range(len(vizinhos)):\n",
    "            custo = funcao_custo(vizinhos[i])\n",
    "\n",
    "            # substitui com as solucoes melhores\n",
    "            if custo < melhor:\n",
    "                melhor = custo\n",
    "                solucao = vizinhos[i]\n",
    "\n",
    "        # melhor solucao achada\n",
    "        if melhor == atual:\n",
    "            break\n",
    "\n",
    "    return solucao\n",
    "\n",
    "custo_dormitorio(hill_climb(dominio=dominio, funcao_custo=custo_dormitorio))"
   ]
  }
 ],
 "metadata": {
  "kernelspec": {
   "display_name": "Python 3.9.12 ('ia')",
   "language": "python",
   "name": "python3"
  },
  "language_info": {
   "codemirror_mode": {
    "name": "ipython",
    "version": 3
   },
   "file_extension": ".py",
   "mimetype": "text/x-python",
   "name": "python",
   "nbconvert_exporter": "python",
   "pygments_lexer": "ipython3",
   "version": "3.9.12"
  },
  "orig_nbformat": 4,
  "vscode": {
   "interpreter": {
    "hash": "cbe59bc8e43c33e263d0ddce44ad7ec5ba3f57d4d2daa17d616eb06d4130f325"
   }
  }
 },
 "nbformat": 4,
 "nbformat_minor": 2
}
