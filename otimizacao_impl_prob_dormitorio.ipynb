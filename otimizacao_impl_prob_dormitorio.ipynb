{
 "cells": [
  {
   "cell_type": "code",
   "execution_count": null,
   "metadata": {},
   "outputs": [],
   "source": [
    "import math\n",
    "import time\n",
    "import random\n",
    "import copy"
   ]
  },
  {
   "cell_type": "markdown",
   "metadata": {},
   "source": [
    "## Problema Dormitórios"
   ]
  },
  {
   "cell_type": "code",
   "execution_count": null,
   "metadata": {},
   "outputs": [],
   "source": [
    "dormitorios = ['sao paulo', 'flamengo', 'coritiba', 'cruzeiro', 'fortaleza']\n",
    "\n",
    "preferencias = {\n",
    "    'amanda' : ('cruzeiro', 'coritiba'),\n",
    "    'pedro' : ('sao paulo', 'fortaleza'),\n",
    "    'marcos' : ('flamengo', 'sao paulo'),\n",
    "    'priscila' : ('sao paulo', 'fortaleza'),\n",
    "    'jessica' : ('flamengo', 'cruzeiro'),\n",
    "    'paulo' : ('coritiba', 'fortaleza'),\n",
    "    'fred' : ('fortaleza', 'flamengo'),\n",
    "    'suzana' : ('cruzeiro', 'coritiba'),\n",
    "    'laura' : ('cruzeiro', 'coritiba'),\n",
    "    'ricardo' : ('coritiba', 'flamengo')\n",
    "}"
   ]
  },
  {
   "cell_type": "code",
   "execution_count": null,
   "metadata": {},
   "outputs": [],
   "source": [
    "dominio = [(0, (len(dormitorios) * 2) - i - 1) for i in range(len(dormitorios) * 2)]\n",
    "dominio"
   ]
  },
  {
   "cell_type": "code",
   "execution_count": null,
   "metadata": {},
   "outputs": [],
   "source": [
    "def print_vagas(solucao:list):\n",
    "    vagas = []\n",
    "\n",
    "    for i in range(len(dormitorios)):\n",
    "        # deminstrar que para cada quarto haverá duas vagas\n",
    "        # ex: 0, 0, 1, 1. Indo pelo indice dos dormitorios\n",
    "        vagas += [i, i]\n",
    "\n",
    "    for i in range(len(solucao)):\n",
    "        # pega o numero do indice do dormitorio\n",
    "        dormitorio = dormitorios[vagas[solucao[i]]]\n",
    "        print(list(preferencias.keys())[i], dormitorio)\n",
    "        # apos preencher a vaga, retira ela\n",
    "        # limpa a lista de vagas\n",
    "        del vagas[solucao[i]]\n",
    "\n",
    "print_vagas(solucao=[6,1,2,1,2,0,2,2,0,0])"
   ]
  },
  {
   "cell_type": "code",
   "execution_count": null,
   "metadata": {},
   "outputs": [],
   "source": [
    "def custo_dormitorio(solucao:list):\n",
    "    vagas = []\n",
    "    custo = 0\n",
    "\n",
    "    for i in range(len(dormitorios)):\n",
    "        # deminstrar que para cada quarto haverá duas vagas\n",
    "        # ex: 0, 0, 1, 1. Indo pelo indice dos dormitorios\n",
    "        vagas += [i, i]\n",
    "\n",
    "    for i in range(len(solucao)):\n",
    "        # pega o dormitorio na posicao i\n",
    "        dormitorio = dormitorios[vagas[solucao[i]]]\n",
    "        # recupera as preferencias da pessoa atual na posicao i\n",
    "        pref = preferencias.get(list(preferencias.keys())[i])\n",
    "        \n",
    "        # primeiro quarto desejado\n",
    "        if dormitorio == pref[0]:\n",
    "            pass\n",
    "        # segunda preferencia + 1 pen\n",
    "        elif dormitorio == pref[1]:\n",
    "            custo += 1\n",
    "        # nenhuma das duas + 3 pen\n",
    "        else:\n",
    "            custo += 3\n",
    "\n",
    "        del vagas[solucao[i]]\n",
    "\n",
    "    return custo\n",
    "\n",
    "\n",
    "custo_dormitorio(solucao=[6,1,2,1,2,0,2,2,0,0])"
   ]
  }
 ],
 "metadata": {
  "language_info": {
   "name": "python"
  },
  "orig_nbformat": 4
 },
 "nbformat": 4,
 "nbformat_minor": 2
}
