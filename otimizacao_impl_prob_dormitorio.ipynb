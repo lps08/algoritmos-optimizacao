{
 "cells": [
  {
   "cell_type": "code",
   "execution_count": 1,
   "metadata": {},
   "outputs": [],
   "source": [
    "import math\n",
    "import time\n",
    "import random\n",
    "import copy"
   ]
  },
  {
   "cell_type": "markdown",
   "metadata": {},
   "source": [
    "## Problema Dormitórios"
   ]
  },
  {
   "cell_type": "code",
   "execution_count": 2,
   "metadata": {},
   "outputs": [],
   "source": [
    "dormitorios = ['sao paulo', 'flamengo', 'coritiba', 'cruzeiro', 'fortaleza']\n",
    "\n",
    "preferencias = {\n",
    "    'amanda' : ('cruzeiro', 'coritiba'),\n",
    "    'pedro' : ('sao paulo', 'fortaleza'),\n",
    "    'marcos' : ('flamengo', 'sao paulo'),\n",
    "    'priscila' : ('sao paulo', 'fortaleza'),\n",
    "    'jessica' : ('flamengo', 'cruzeiro'),\n",
    "    'paulo' : ('coritiba', 'fortaleza'),\n",
    "    'fred' : ('fortaleza', 'flamengo'),\n",
    "    'suzana' : ('cruzeiro', 'coritiba'),\n",
    "    'laura' : ('cruzeiro', 'coritiba'),\n",
    "    'ricardo' : ('coritiba', 'flamengo')\n",
    "}"
   ]
  },
  {
   "cell_type": "code",
   "execution_count": 3,
   "metadata": {},
   "outputs": [
    {
     "data": {
      "text/plain": [
       "[(0, 9),\n",
       " (0, 8),\n",
       " (0, 7),\n",
       " (0, 6),\n",
       " (0, 5),\n",
       " (0, 4),\n",
       " (0, 3),\n",
       " (0, 2),\n",
       " (0, 1),\n",
       " (0, 0)]"
      ]
     },
     "execution_count": 3,
     "metadata": {},
     "output_type": "execute_result"
    }
   ],
   "source": [
    "dominio = [(0, (len(dormitorios) * 2) - i - 1) for i in range(len(dormitorios) * 2)]\n",
    "dominio"
   ]
  },
  {
   "cell_type": "code",
   "execution_count": 4,
   "metadata": {},
   "outputs": [
    {
     "name": "stdout",
     "output_type": "stream",
     "text": [
      "amanda cruzeiro\n",
      "pedro sao paulo\n",
      "marcos flamengo\n",
      "priscila flamengo\n",
      "jessica coritiba\n",
      "paulo sao paulo\n",
      "fred fortaleza\n",
      "suzana fortaleza\n",
      "laura coritiba\n",
      "ricardo cruzeiro\n"
     ]
    }
   ],
   "source": [
    "def print_vagas(solucao:list):\n",
    "    vagas = []\n",
    "\n",
    "    for i in range(len(dormitorios)):\n",
    "        # deminstrar que para cada quarto haverá duas vagas\n",
    "        # ex: 0, 0, 1, 1. Indo pelo indice dos dormitorios\n",
    "        vagas += [i, i]\n",
    "\n",
    "    for i in range(len(solucao)):\n",
    "        # pega o numero do indice do dormitorio\n",
    "        dormitorio = dormitorios[vagas[solucao[i]]]\n",
    "        print(list(preferencias.keys())[i], dormitorio)\n",
    "        # apos preencher a vaga, retira ela\n",
    "        # limpa a lista de vagas\n",
    "        del vagas[solucao[i]]\n",
    "\n",
    "print_vagas(solucao=[6,1,2,1,2,0,2,2,0,0])"
   ]
  },
  {
   "cell_type": "code",
   "execution_count": 5,
   "metadata": {},
   "outputs": [
    {
     "data": {
      "text/plain": [
       "16"
      ]
     },
     "execution_count": 5,
     "metadata": {},
     "output_type": "execute_result"
    }
   ],
   "source": [
    "def custo_dormitorio(solucao:list):\n",
    "    vagas = []\n",
    "    custo = 0\n",
    "\n",
    "    for i in range(len(dormitorios)):\n",
    "        # deminstrar que para cada quarto haverá duas vagas\n",
    "        # ex: 0, 0, 1, 1. Indo pelo indice dos dormitorios\n",
    "        vagas += [i, i]\n",
    "\n",
    "    for i in range(len(solucao)):\n",
    "        # pega o dormitorio na posicao i\n",
    "        dormitorio = dormitorios[vagas[solucao[i]]]\n",
    "        # recupera as preferencias da pessoa atual na posicao i\n",
    "        pref = preferencias.get(list(preferencias.keys())[i])\n",
    "        \n",
    "        # primeiro quarto desejado\n",
    "        if dormitorio == pref[0]:\n",
    "            pass\n",
    "        # segunda preferencia + 1 pen\n",
    "        elif dormitorio == pref[1]:\n",
    "            custo += 1\n",
    "        # nenhuma das duas + 3 pen\n",
    "        else:\n",
    "            custo += 3\n",
    "\n",
    "        del vagas[solucao[i]]\n",
    "\n",
    "    return custo\n",
    "\n",
    "\n",
    "custo_dormitorio(solucao=[6,1,2,1,2,0,2,2,0,0])"
   ]
  },
  {
   "cell_type": "markdown",
   "metadata": {},
   "source": [
    "## Busca randômica"
   ]
  },
  {
   "cell_type": "code",
   "execution_count": 6,
   "metadata": {},
   "outputs": [
    {
     "data": {
      "text/plain": [
       "6"
      ]
     },
     "execution_count": 6,
     "metadata": {},
     "output_type": "execute_result"
    }
   ],
   "source": [
    "def busca_randomica(dominio, funcao_custo, numero_solucao):\n",
    "    melhor_custo = 999\n",
    "    melhor_solucao = None\n",
    "\n",
    "    for i in range(numero_solucao):\n",
    "        # gera uma solucao randomica\n",
    "        solucao = [random.randint(dominio[i][0], dominio[i][1]) for i in range(len(dominio))]\n",
    "\n",
    "        # calcula os custos\n",
    "        custo_solucao = funcao_custo(solucao)\n",
    "\n",
    "        # verifica se a solucao foi melhor\n",
    "        if custo_solucao < melhor_custo:\n",
    "            melhor_custo = custo_solucao\n",
    "            melhor_solucao = solucao\n",
    "\n",
    "    return melhor_solucao\n",
    "\n",
    "custo_dormitorio(busca_randomica(dominio=dominio, funcao_custo=custo_dormitorio, numero_solucao=1000))\n"
   ]
  },
  {
   "cell_type": "markdown",
   "metadata": {},
   "source": [
    "## Hill Climb"
   ]
  },
  {
   "cell_type": "code",
   "execution_count": 7,
   "metadata": {},
   "outputs": [
    {
     "data": {
      "text/plain": [
       "5"
      ]
     },
     "execution_count": 7,
     "metadata": {},
     "output_type": "execute_result"
    }
   ],
   "source": [
    "def hill_climb(dominio, funcao_custo):\n",
    "    # gera uma solucao randomica\n",
    "    solucao = busca_randomica(dominio=dominio, funcao_custo=funcao_custo, numero_solucao=1000)\n",
    "\n",
    "    while True:\n",
    "        vizinhos = []\n",
    "\n",
    "        for i in range(len(dominio)):\n",
    "            # verifica se o numero é menor que o valor maximo\n",
    "            if solucao[i] < dominio[i][1]:\n",
    "                # copia a solucao\n",
    "                novo_vizinho = copy.deepcopy(solucao)\n",
    "                # modifica o vizinho na posicao i em +1\n",
    "                novo_vizinho[i] = novo_vizinho[i] + 1\n",
    "                vizinhos.append(novo_vizinho)\n",
    "            \n",
    "            # verifica se o valor é maior que o menor valor\n",
    "            if solucao[i] > dominio[i][0]:\n",
    "                novo_vizinho = copy.deepcopy(solucao)\n",
    "                # modifica o vizinho na posicao i em -1\n",
    "                novo_vizinho[i] = novo_vizinho[i] - 1\n",
    "\n",
    "        # verifica o custo da soluca\n",
    "        atual = funcao_custo(solucao)\n",
    "        # adiciona \n",
    "        melhor = atual\n",
    "\n",
    "        for i in range(len(vizinhos)):\n",
    "            custo = funcao_custo(vizinhos[i])\n",
    "\n",
    "            # substitui com as solucoes melhores\n",
    "            if custo < melhor:\n",
    "                melhor = custo\n",
    "                solucao = vizinhos[i]\n",
    "\n",
    "        # melhor solucao achada\n",
    "        if melhor == atual:\n",
    "            break\n",
    "\n",
    "    return solucao\n",
    "\n",
    "custo_dormitorio(hill_climb(dominio=dominio, funcao_custo=custo_dormitorio))"
   ]
  },
  {
   "cell_type": "markdown",
   "metadata": {},
   "source": [
    "## Simulated Annealing"
   ]
  },
  {
   "cell_type": "code",
   "execution_count": 8,
   "metadata": {},
   "outputs": [
    {
     "data": {
      "text/plain": [
       "14"
      ]
     },
     "execution_count": 8,
     "metadata": {},
     "output_type": "execute_result"
    }
   ],
   "source": [
    "from jinja2 import FunctionLoader\n",
    "\n",
    "\n",
    "def simulated_annealing(dominio, funcao_custo, temperatura = 10000.0, taxa_resfriamento = 0.95, passo = 1):\n",
    "    # gera uma solucao aleatoria\n",
    "    solucao = busca_randomica(dominio=dominio, funcao_custo=funcao_custo, numero_solucao=1000)\n",
    "\n",
    "    # irá rodar até resfriar\n",
    "    while temperatura > 0.1:\n",
    "        # escolhe um index randomico para modificar\n",
    "        random_idx = random.randint(0, len(dominio) -1)\n",
    "        \n",
    "        # escohe a direção\n",
    "        direcao = random.randint(-passo, passo)\n",
    "\n",
    "        # copia a solucao para modificar\n",
    "        solucao_mod = copy.deepcopy(solucao)\n",
    "        solucao_mod[random_idx] += direcao\n",
    "\n",
    "        # se for menor que a permitido, substitui pelo menor permitido\n",
    "        if solucao_mod[random_idx] < dominio[random_idx][0]:\n",
    "            solucao_mod[random_idx] = dominio[random_idx][0]\n",
    "        # se for maior que a permitido, substitui pelo meior permitido\n",
    "        elif solucao_mod[random_idx] > dominio[random_idx][1]:\n",
    "            solucao_mod[random_idx] = dominio[random_idx][1]\n",
    "        \n",
    "        # calculo dos custos\n",
    "        custo_solucao = funcao_custo(solucao)\n",
    "        custo_solucao_mod = funcao_custo(solucao_mod)\n",
    "\n",
    "        # calcula a probabilidade de escolher uma solucao 'pior'\n",
    "        # prob = 0 até 1\n",
    "        prob = pow(math.e, (-custo_solucao_mod - custo_solucao) / temperatura)\n",
    "\n",
    "        if custo_solucao_mod < custo_solucao or random.random() < prob:\n",
    "            solucao = solucao_mod\n",
    "\n",
    "        # dominui a temperatura\n",
    "        temperatura *= taxa_resfriamento\n",
    "    \n",
    "    return solucao\n",
    "\n",
    "custo_dormitorio(simulated_annealing(dominio=dominio, funcao_custo=custo_dormitorio))"
   ]
  },
  {
   "cell_type": "markdown",
   "metadata": {},
   "source": [
    "## Algoritmo Genético"
   ]
  },
  {
   "cell_type": "markdown",
   "metadata": {},
   "source": [
    "### Mutação"
   ]
  },
  {
   "cell_type": "code",
   "execution_count": 11,
   "metadata": {},
   "outputs": [
    {
     "data": {
      "text/plain": [
       "[6, 1, 2, 1, 2, 0, 3, 2, 0, 0]"
      ]
     },
     "execution_count": 11,
     "metadata": {},
     "output_type": "execute_result"
    }
   ],
   "source": [
    "def mutacao(dominio, passo, solucao:list):\n",
    "    # pega um index aleatorio para fazer a mutacao\n",
    "    random_idx = random.randint(0, len(solucao) - 1)\n",
    "\n",
    "    solucao_mutante = copy.deepcopy(solucao)\n",
    "    \n",
    "    # 50% de chance de mutar em +1 ou -1\n",
    "    if random.random() < 0.5:\n",
    "        # verifica se é possivel diminuir uma quantidade :passo do numero escolhido\n",
    "        if (solucao_mutante[random_idx] - passo) >= dominio[random_idx][0]:\n",
    "            solucao_mutante[random_idx] -= passo\n",
    "\n",
    "    else:\n",
    "        # verifica se é possivel diminuir uma quantidade :passo do numero escolhido\n",
    "        if (solucao_mutante[random_idx] + passo) <= dominio[random_idx][1]:\n",
    "            solucao_mutante[random_idx] += passo\n",
    "\n",
    "    return solucao_mutante\n",
    "\n",
    "# teste\n",
    "mutacao(dominio=dominio, passo=1, solucao=[6,1,2,1,2,0,2,2,0,0])"
   ]
  },
  {
   "cell_type": "markdown",
   "metadata": {},
   "source": [
    "### Cruzamento"
   ]
  },
  {
   "cell_type": "code",
   "execution_count": 55,
   "metadata": {},
   "outputs": [
    {
     "data": {
      "text/plain": [
       "[6, 1, 3, 0, 2, 0, 2, 2, 6, 1]"
      ]
     },
     "execution_count": 55,
     "metadata": {},
     "output_type": "execute_result"
    }
   ],
   "source": [
    "def cruzamento(dominio, individuo1, individuo2):\n",
    "    # escolhe o ponto de corte aleatoriamente\n",
    "    ponto_corte = random.randint(1, len(dominio) -1)\n",
    "\n",
    "    return individuo1[0:ponto_corte] + individuo2[ponto_corte:]\n",
    "\n",
    "cruzamento(dominio=dominio, individuo1=[6,1,2,1,2,0,2,2,0,0], individuo2=[5,0,3,0,2,0,2,2,6,1])"
   ]
  },
  {
   "cell_type": "markdown",
   "metadata": {},
   "source": [
    "### GA"
   ]
  },
  {
   "cell_type": "code",
   "execution_count": 60,
   "metadata": {},
   "outputs": [
    {
     "data": {
      "text/plain": [
       "(2, [4, 0, 1, 0, 0, 3, 3, 1, 1, 0])"
      ]
     },
     "execution_count": 60,
     "metadata": {},
     "output_type": "execute_result"
    }
   ],
   "source": [
    "def genetico(dominio, funcao_custo, tamanha_populacao = 50, passo = 1,\n",
    "             prob_mutacao = 0.2, elitismo = 0.2, numero_geracao= 100):\n",
    "    # gera uma populacao aleatoria de acordo com o :tamanha_populacao\n",
    "    populacao = []\n",
    "    for i in range(tamanha_populacao):\n",
    "        populacao.append(busca_randomica(dominio=dominio, funcao_custo=funcao_custo, numero_solucao=1000))\n",
    "\n",
    "    # numero de individuos que serao selecionados como pais\n",
    "    numero_elitismo = int(elitismo * tamanha_populacao)\n",
    "\n",
    "    for _ in range(numero_geracao):\n",
    "        # lista com individuos e seu custo\n",
    "        custos = [(funcao_custo(ind), ind) for ind in populacao]\n",
    "        # organiza de acordo com o melhor custo\n",
    "        custos.sort()\n",
    "\n",
    "        # seleciona somente os individuos ordenados de acordo com seus custos\n",
    "        individuos_ordenados = [ind for (_, ind) in custos]\n",
    "\n",
    "        # pega a relacao de melhores individuos\n",
    "        populacao = individuos_ordenados[0:numero_elitismo]\n",
    "\n",
    "        while len(populacao) < tamanha_populacao:\n",
    "            # testa a probabilidade de mutacao ou cruzamento\n",
    "            # mutacao\n",
    "            if random.random() < 0.5:\n",
    "                # seleciona um pai aleatorio\n",
    "                mutacao_idx = random.randint(0, numero_elitismo)\n",
    "                # adiciona o individuo mutado na populacao\n",
    "                populacao.append(mutacao(dominio=dominio, passo=passo, solucao=individuos_ordenados[mutacao_idx]))\n",
    "            # cruzamento\n",
    "            else:\n",
    "                # seleciona dois individuos para mutacao\n",
    "                ind1 = random.randint(0, numero_elitismo)\n",
    "                ind2 = random.randint(0, numero_elitismo)\n",
    "\n",
    "                # verifica se os individuos sao iguais\n",
    "                if ind2 == ind1:\n",
    "                    # se for, acha um diferente\n",
    "                    while ind2 == ind1:\n",
    "                        ind2 = random.randint(0, numero_elitismo)\n",
    "\n",
    "                populacao.append(cruzamento(dominio=dominio, individuo1=individuos_ordenados[ind1], individuo2=individuos_ordenados[ind2]))\n",
    "\n",
    "    return custos[0]\n",
    "\n",
    "genetico(dominio=dominio, funcao_custo=custo_dormitorio)"
   ]
  }
 ],
 "metadata": {
  "kernelspec": {
   "display_name": "Python 3.9.12 ('ia')",
   "language": "python",
   "name": "python3"
  },
  "language_info": {
   "codemirror_mode": {
    "name": "ipython",
    "version": 3
   },
   "file_extension": ".py",
   "mimetype": "text/x-python",
   "name": "python",
   "nbconvert_exporter": "python",
   "pygments_lexer": "ipython3",
   "version": "3.9.12"
  },
  "orig_nbformat": 4,
  "vscode": {
   "interpreter": {
    "hash": "cbe59bc8e43c33e263d0ddce44ad7ec5ba3f57d4d2daa17d616eb06d4130f325"
   }
  }
 },
 "nbformat": 4,
 "nbformat_minor": 2
}
