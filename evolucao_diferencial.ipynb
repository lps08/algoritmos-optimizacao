{
 "cells": [
  {
   "cell_type": "code",
   "execution_count": 1,
   "metadata": {},
   "outputs": [],
   "source": [
    "import random"
   ]
  },
  {
   "cell_type": "code",
   "execution_count": 2,
   "metadata": {},
   "outputs": [],
   "source": [
    "def gera_solucao_aleatoria():\n",
    "    alimentos = []\n",
    "\n",
    "    for i in range(5):\n",
    "        # quantidades aleatorias \n",
    "        quant = random.randint(0, 199) + random.random()\n",
    "        alimentos.append(quant)\n",
    "\n",
    "    return alimentos"
   ]
  },
  {
   "cell_type": "code",
   "execution_count": 3,
   "metadata": {},
   "outputs": [
    {
     "data": {
      "text/plain": [
       "[166.03289728889723,\n",
       " 133.24582074160156,\n",
       " 93.6218399641127,\n",
       " 36.211512938850326,\n",
       " 116.07811449576684]"
      ]
     },
     "execution_count": 3,
     "metadata": {},
     "output_type": "execute_result"
    }
   ],
   "source": [
    "gera_solucao_aleatoria()"
   ]
  },
  {
   "cell_type": "code",
   "execution_count": 4,
   "metadata": {},
   "outputs": [],
   "source": [
    "def populacao(numero):\n",
    "    return [gera_solucao_aleatoria() for _ in range(numero)]"
   ]
  },
  {
   "cell_type": "code",
   "execution_count": 5,
   "metadata": {},
   "outputs": [
    {
     "data": {
      "text/plain": [
       "[[97.32172544603635,\n",
       "  88.02684044670897,\n",
       "  78.32826289402345,\n",
       "  16.20372039235673,\n",
       "  33.449350648870805],\n",
       " [14.577606866446628,\n",
       "  164.05442572024515,\n",
       "  71.94754201487102,\n",
       "  198.84841727889247,\n",
       "  60.928122813204965]]"
      ]
     },
     "execution_count": 5,
     "metadata": {},
     "output_type": "execute_result"
    }
   ],
   "source": [
    "populacao(2)"
   ]
  },
  {
   "cell_type": "code",
   "execution_count": 6,
   "metadata": {},
   "outputs": [],
   "source": [
    "def custo(prato):\n",
    "    carboidratos = prato[0]*0.05 + prato[1]*0.24 + prato[2]*0.26 + prato[3]*0.015 + prato[4]*0.29\n",
    "    proteinas = prato[0]*0.23 + prato[1]*0.02 + prato[2]*0.026 + prato[3]*0.13 + prato[4]*0.095\n",
    "    lipideos = prato[0]*0.05 + prato[1]*0.00 + prato[2]*0.01 + prato[3]*0.089 + prato[4]*0.014\n",
    "    total = carboidratos + proteinas + lipideos\n",
    "\n",
    "    por_carbo = (carboidratos/total)*100\n",
    "    por_prote = (proteinas/total)*100\n",
    "    por_lipe = (lipideos/total)*100\n",
    "\n",
    "    dif_carbo = abs(por_carbo - 55)\n",
    "    dif_prote = abs(por_prote - 30)\n",
    "    dif_lipe = abs(por_lipe - 15)\n",
    "\n",
    "    return dif_carbo + dif_prote + dif_lipe"
   ]
  },
  {
   "cell_type": "code",
   "execution_count": 7,
   "metadata": {},
   "outputs": [
    {
     "data": {
      "text/plain": [
       "16.1678010178708"
      ]
     },
     "execution_count": 7,
     "metadata": {},
     "output_type": "execute_result"
    }
   ],
   "source": [
    "custo(prato=gera_solucao_aleatoria())"
   ]
  },
  {
   "cell_type": "code",
   "execution_count": 8,
   "metadata": {},
   "outputs": [],
   "source": [
    "def seleciona3(parental, populacao):\n",
    "    p2 = []\n",
    "    tres_vetores = []\n",
    "\n",
    "    for i in populacao:\n",
    "        if i != parental:\n",
    "            p2.append(i)\n",
    "\n",
    "    for i in range(3):\n",
    "        vetor_aleatorio = random.choice(p2)\n",
    "        tres_vetores.append(vetor_aleatorio)\n",
    "        p2.remove(vetor_aleatorio)\n",
    "\n",
    "    return tres_vetores"
   ]
  },
  {
   "cell_type": "code",
   "execution_count": 9,
   "metadata": {},
   "outputs": [
    {
     "name": "stdout",
     "output_type": "stream",
     "text": [
      "[[35.71999867916283, 105.37276828427146, 164.8045713652411, 184.7942698294462, 170.6462404912055], [166.39346399024546, 0.799302178190109, 151.56485709304576, 50.57227776831922, 68.78310730892248], [103.05771775407732, 75.4279355653038, 93.25186578840957, 114.60026185100061, 169.40179231201807], [49.74243037737877, 130.35211270313104, 38.656230307870175, 25.778404590575008, 135.33852268612964], [25.01587381330502, 30.020922562113974, 139.5580820360259, 180.32813036592256, 6.223696455729717]]\n"
     ]
    },
    {
     "data": {
      "text/plain": [
       "[[49.74243037737877,\n",
       "  130.35211270313104,\n",
       "  38.656230307870175,\n",
       "  25.778404590575008,\n",
       "  135.33852268612964],\n",
       " [103.05771775407732,\n",
       "  75.4279355653038,\n",
       "  93.25186578840957,\n",
       "  114.60026185100061,\n",
       "  169.40179231201807],\n",
       " [25.01587381330502,\n",
       "  30.020922562113974,\n",
       "  139.5580820360259,\n",
       "  180.32813036592256,\n",
       "  6.223696455729717]]"
      ]
     },
     "execution_count": 9,
     "metadata": {},
     "output_type": "execute_result"
    }
   ],
   "source": [
    "popu = populacao(numero=5)\n",
    "\n",
    "print(popu)\n",
    "seleciona3(parental=popu[0], populacao=popu)"
   ]
  },
  {
   "cell_type": "code",
   "execution_count": 12,
   "metadata": {},
   "outputs": [],
   "source": [
    "def mutacao(vetor_parental, tres_vetores, cr=0.2, f=0.8):\n",
    "    vetor_tentativa = []\n",
    "\n",
    "    for i in range(len(vetor_parental)):\n",
    "        if random.random() < cr:\n",
    "            vetor_tentativa.append(tres_vetores[0][i] + f * (tres_vetores[1][i] - tres_vetores[2][i]))\n",
    "        else:\n",
    "            vetor_tentativa.append(vetor_parental[i])\n",
    "    return vetor_tentativa"
   ]
  },
  {
   "cell_type": "code",
   "execution_count": 13,
   "metadata": {},
   "outputs": [
    {
     "data": {
      "text/plain": [
       "[1, 2, 11.4]"
      ]
     },
     "execution_count": 13,
     "metadata": {},
     "output_type": "execute_result"
    }
   ],
   "source": [
    "mutacao(vetor_parental=[1,2,3], tres_vetores=[[3,4,5], [6,7,8], [8,9,0]])"
   ]
  },
  {
   "cell_type": "code",
   "execution_count": 27,
   "metadata": {},
   "outputs": [],
   "source": [
    "def melhor_vetor(populacao:list):\n",
    "    notas = []\n",
    "    for prato in populacao:\n",
    "        notas.append(custo(prato))\n",
    "    menor_idx = notas.index(min(notas))\n",
    "\n",
    "    return populacao[menor_idx]"
   ]
  },
  {
   "cell_type": "code",
   "execution_count": 26,
   "metadata": {},
   "outputs": [
    {
     "name": "stdout",
     "output_type": "stream",
     "text": [
      "[134.26679136885764, 136.39491791012728, 11.43225034588954, 26.33043823737287, 76.30200628941668]\n"
     ]
    },
    {
     "data": {
      "text/plain": [
       "[134.26679136885764,\n",
       " 136.39491791012728,\n",
       " 11.43225034588954,\n",
       " 26.33043823737287,\n",
       " 76.30200628941668]"
      ]
     },
     "execution_count": 26,
     "metadata": {},
     "output_type": "execute_result"
    }
   ],
   "source": [
    "popu = populacao(4)\n",
    "melhor_vetor(popu=popu)"
   ]
  },
  {
   "cell_type": "code",
   "execution_count": 28,
   "metadata": {},
   "outputs": [],
   "source": [
    "def evolucao_diferencial(populacao, geracao):\n",
    "    for i in range(geracao):\n",
    "        for prato in populacao:\n",
    "            tres_vetores = seleciona3(parental=prato, populacao=populacao)\n",
    "            vetor_tentativa = mutacao(vetor_parental=prato, tres_vetores=tres_vetores)\n",
    "\n",
    "            if custo(vetor_tentativa) < custo(prato):\n",
    "                populacao.remove(prato)\n",
    "                populacao.append(vetor_tentativa)\n",
    "\n",
    "    print('Melhor vetor: ', melhor_vetor(populacao=populacao))\n",
    "    print('Melhor valor de custo: ', custo(melhor_vetor(populacao=populacao)))"
   ]
  },
  {
   "cell_type": "code",
   "execution_count": 30,
   "metadata": {},
   "outputs": [
    {
     "name": "stdout",
     "output_type": "stream",
     "text": [
      "Melhor vetor:  [49.2514491472018, 202.11354124944566, 343.03411908631153, 526.4094444163752, 189.89059143710418]\n",
      "Melhor valor de custo:  0.01310692296907412\n"
     ]
    }
   ],
   "source": [
    "evolucao_diferencial(populacao=populacao(30), geracao=500)"
   ]
  }
 ],
 "metadata": {
  "kernelspec": {
   "display_name": "Python 3.9.12 ('ia')",
   "language": "python",
   "name": "python3"
  },
  "language_info": {
   "codemirror_mode": {
    "name": "ipython",
    "version": 3
   },
   "file_extension": ".py",
   "mimetype": "text/x-python",
   "name": "python",
   "nbconvert_exporter": "python",
   "pygments_lexer": "ipython3",
   "version": "3.9.12"
  },
  "orig_nbformat": 4,
  "vscode": {
   "interpreter": {
    "hash": "cbe59bc8e43c33e263d0ddce44ad7ec5ba3f57d4d2daa17d616eb06d4130f325"
   }
  }
 },
 "nbformat": 4,
 "nbformat_minor": 2
}
