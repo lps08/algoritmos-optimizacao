{
 "cells": [
  {
   "cell_type": "code",
   "execution_count": 11,
   "metadata": {},
   "outputs": [],
   "source": [
    "import math\n",
    "import time\n",
    "import random\n",
    "import copy"
   ]
  },
  {
   "cell_type": "code",
   "execution_count": 2,
   "metadata": {},
   "outputs": [],
   "source": [
    "pessoas = [('Amanda', 'CWB'),\n",
    "           ('Pedro', 'GIG'),\n",
    "           ('Marcos', 'POA'),\n",
    "           ('Priscila', 'FLN'),\n",
    "           ('Jessica', 'CNF'),\n",
    "           ('Paulo', 'GYN')]\n",
    "\n",
    "destino = 'GRU'"
   ]
  },
  {
   "cell_type": "code",
   "execution_count": 3,
   "metadata": {},
   "outputs": [],
   "source": [
    "voos = {}\n",
    "\n",
    "for l in open('voos.txt'):\n",
    "    origem, dest, saida, chegada, preco = l.split(',')\n",
    "    voos.setdefault((origem, dest), [])\n",
    "    voos[(origem, dest)].append((saida, chegada, int(preco)))"
   ]
  },
  {
   "cell_type": "code",
   "execution_count": 4,
   "metadata": {},
   "outputs": [
    {
     "name": "stdout",
     "output_type": "stream",
     "text": [
      "    Amanda       CWB  8:04-10:11 R$ 95 10:33-12:03 R$ 74\n",
      "     Pedro       GIG 10:30-14:57 R$290  9:49-13:51 R$229\n",
      "    Marcos       POA 17:08-19:08 R$262 10:32-13:16 R$139\n",
      "  Priscila       FLN 15:34-18:11 R$326 11:08-14:38 R$262\n",
      "   Jessica       CNF  9:42-11:32 R$169 12:08-14:47 R$231\n",
      "     Paulo       GYN 13:37-15:08 R$250 11:07-13:24 R$171\n"
     ]
    }
   ],
   "source": [
    "def print_agenda(agenda):\n",
    "    for idx, voo in enumerate(agenda):\n",
    "        nome = pessoas[idx][0]\n",
    "        origem = pessoas[idx][1]\n",
    "\n",
    "        ida = voos[(origem, destino)][voo[0]]\n",
    "        volta = voos[(destino, origem)][voo[1]]\n",
    "\n",
    "        print(\"%10s%10s %5s-%5s R$%3s %5s-%5s R$%3s\" % (nome, origem, ida[0], ida[1], ida[2],\n",
    "                                                        volta[0], volta[1], volta[2]))\n",
    "\n",
    "agenda = [[1,3], [3, 2], [7,3], [6,3], [2,4], [5,3]]\n",
    "\n",
    "print_agenda(agenda)"
   ]
  },
  {
   "cell_type": "code",
   "execution_count": 5,
   "metadata": {},
   "outputs": [
    {
     "data": {
      "text/plain": [
       "70"
      ]
     },
     "execution_count": 5,
     "metadata": {},
     "output_type": "execute_result"
    }
   ],
   "source": [
    "def get_minutos(hora:str):\n",
    "    tempo = time.strptime(hora, '%H:%M')\n",
    "    return tempo[3] * 60 + tempo[4]\n",
    "\n",
    "get_minutos('1:10')"
   ]
  },
  {
   "cell_type": "code",
   "execution_count": 6,
   "metadata": {},
   "outputs": [],
   "source": [
    "def custo(solucao:list):\n",
    "    preco_total = 0\n",
    "    # menor possível\n",
    "    ultima_chegada = 0\n",
    "    # maior possível\n",
    "    primeira_partida = 1439 #23:59 em minutos\n",
    "    total_espera = 0\n",
    "\n",
    "    for idx, voo in enumerate(solucao):\n",
    "        origem = pessoas[idx][1]\n",
    "\n",
    "        ida = voos[(origem, destino)][voo[0]]\n",
    "        volta = voos[(destino, origem)][voo[1]]\n",
    "\n",
    "        preco_total += ida[2]\n",
    "        preco_total += volta[2]\n",
    "\n",
    "        # atualiza a ultima chegada ao aeroporto\n",
    "        if ultima_chegada < get_minutos(ida[1]):\n",
    "            ultima_chegada = get_minutos(ida[1])\n",
    "\n",
    "        # atualiza com a primeira chegada ao aeroporto\n",
    "        if primeira_partida > get_minutos(volta[0]):\n",
    "            primeira_partida = get_minutos(volta[0])\n",
    "        \n",
    "    for idx, voo in enumerate(solucao):\n",
    "        origem = pessoas[idx][1]\n",
    "\n",
    "        ida = voos[(origem, destino)][voo[0]]\n",
    "        volta = voos[(destino, origem)][voo[1]]\n",
    "\n",
    "        # calcula o tanto de espera no aeroporto\n",
    "        total_espera += ultima_chegada - get_minutos(ida[1])\n",
    "        total_espera += get_minutos(volta[0]) - primeira_partida\n",
    "\n",
    "    # se virou um dia, adiciona penalidade em dinheiro\n",
    "    if ultima_chegada > primeira_partida:\n",
    "        preco_total += 50\n",
    "\n",
    "    return preco_total + total_espera"
   ]
  },
  {
   "cell_type": "code",
   "execution_count": 7,
   "metadata": {},
   "outputs": [
    {
     "data": {
      "text/plain": [
       "4472"
      ]
     },
     "execution_count": 7,
     "metadata": {},
     "output_type": "execute_result"
    }
   ],
   "source": [
    "custo(agenda)"
   ]
  },
  {
   "cell_type": "markdown",
   "metadata": {},
   "source": [
    "## Busca randômica"
   ]
  },
  {
   "cell_type": "code",
   "execution_count": 8,
   "metadata": {},
   "outputs": [
    {
     "name": "stdout",
     "output_type": "stream",
     "text": [
      "Melhor solução:  [[3, 3], [0, 2], [5, 5], [4, 3], [4, 3], [4, 5]]\n",
      "Custo solução:  3428\n",
      "    Amanda       CWB 11:16-13:29 R$ 83 10:33-12:03 R$ 74\n",
      "     Pedro       GIG  6:12-10:22 R$230  9:49-13:51 R$229\n",
      "    Marcos       POA 13:40-15:38 R$137 13:37-15:33 R$142\n",
      "  Priscila       FLN 12:05-15:30 R$330 11:08-14:38 R$262\n",
      "   Jessica       CNF 12:44-14:17 R$134 10:33-13:11 R$132\n",
      "     Paulo       GYN 12:18-14:56 R$172 14:05-15:47 R$226\n"
     ]
    },
    {
     "data": {
      "text/plain": [
       "[[3, 3], [0, 2], [5, 5], [4, 3], [4, 3], [4, 5]]"
      ]
     },
     "execution_count": 8,
     "metadata": {},
     "output_type": "execute_result"
    }
   ],
   "source": [
    "def busca_randomica(dominio, funcao_custo, numero_solucao):\n",
    "    melhor_custo = 99999999\n",
    "    melhor_solucao = None\n",
    "\n",
    "    for i in range(numero_solucao):\n",
    "        solucao = [[random.randint(dominio[i][0], dominio[i][1]), random.randint(dominio[i][0], dominio[i][1])] for i in range(len(dominio))]\n",
    "\n",
    "        custo = funcao_custo(solucao)\n",
    "\n",
    "        if custo < melhor_custo:\n",
    "            melhor_custo = custo\n",
    "            melhor_solucao = solucao\n",
    "\n",
    "    print('Melhor solução: ', melhor_solucao)\n",
    "    print('Custo solução: ', melhor_custo)\n",
    "    print_agenda(melhor_solucao)\n",
    "\n",
    "    return melhor_solucao\n",
    "\n",
    "# para cada pessoa, tem-se o numero possivel de voos.\n",
    "dominio = [[0, 9]] * (len(pessoas))\n",
    "\n",
    "busca_randomica(dominio, funcao_custo=custo, numero_solucao=1000)"
   ]
  },
  {
   "cell_type": "markdown",
   "metadata": {},
   "source": [
    "## Hill Climb"
   ]
  },
  {
   "cell_type": "code",
   "execution_count": 44,
   "metadata": {},
   "outputs": [],
   "source": [
    "def hill_climb(domino, funcao_custo):\n",
    "    # gera uma solucao randomica para iniciar o algoritmo\n",
    "    solucao = busca_randomica(dominio=dominio, funcao_custo=funcao_custo,  numero_solucao=1000)\n",
    "\n",
    "    print('Solucao aleatoria: ', solucao)\n",
    "\n",
    "    while True:\n",
    "        vizinhos = []\n",
    "    \n",
    "        for i in range(len(dominio)):\n",
    "            # le cada valor da tupla\n",
    "            for j in range(len(dominio[i])):\n",
    "                 # verifica se o valor é menor que o valor maximo do dominio\n",
    "                if solucao[i][j] < dominio[i][1]:\n",
    "                    # faz uma copida da lista a ser modificado\n",
    "                    novo_vizinho = copy.deepcopy(solucao)\n",
    "                    # modifica o valor da solucao na posica [i][j]\n",
    "                    novo_vizinho[i][j] = novo_vizinho[i][j] + 1\n",
    "                    # adiciona a lista modificada aos vizinhos\n",
    "                    vizinhos.append(novo_vizinho)\n",
    "            \n",
    "                # verifica se o valor é maior que o valor minimo do dominio\n",
    "                if solucao[i][j] > dominio[i][0]:\n",
    "                    # faz uma copida da lista a ser modificado\n",
    "                    novo_vizinho = copy.deepcopy(solucao)\n",
    "                    # modifica o valor da solucao na posica [i][j]\n",
    "                    novo_vizinho[i][j] = novo_vizinho[i][j] - 1\n",
    "                    # adiciona a lista modificada aos vizinhos\n",
    "                    vizinhos.append(novo_vizinho)\n",
    "        # verifica o custo da solucao aleatorea\n",
    "        atual = funcao_custo(solucao)\n",
    "        # adiciona o custo da funcao aleatórea a melhor\n",
    "        melhor = atual\n",
    "\n",
    "        for i in range(len(vizinhos)):\n",
    "            # print(vizinhos[i])\n",
    "            custo = funcao_custo(vizinhos[i])\n",
    "\n",
    "            if custo < melhor:\n",
    "                # atualiza para o melhor custo\n",
    "                melhor = custo\n",
    "                # registra a melhor solucao\n",
    "                solucao = vizinhos[i]\n",
    "\n",
    "        # verifica se já foram verificadas todas as solucoes\n",
    "        if melhor == atual:\n",
    "            break\n",
    "\n",
    "    print('Melhor solucão: ', solucao)\n",
    "    print('Melhor custo: ', melhor)\n",
    "    print_agenda(agenda=solucao)\n",
    "    \n",
    "    return solucao"
   ]
  },
  {
   "cell_type": "code",
   "execution_count": 54,
   "metadata": {},
   "outputs": [
    {
     "name": "stdout",
     "output_type": "stream",
     "text": [
      "Melhor solução:  [[3, 1], [3, 2], [6, 3], [5, 4], [7, 3], [4, 6]]\n",
      "Custo solução:  4371\n",
      "    Amanda       CWB 11:16-13:29 R$ 83  8:23-10:28 R$149\n",
      "     Pedro       GIG 10:30-14:57 R$290  9:49-13:51 R$229\n",
      "    Marcos       POA 15:23-17:25 R$232 10:32-13:16 R$139\n",
      "  Priscila       FLN 14:01-17:24 R$338 12:37-15:05 R$170\n",
      "   Jessica       CNF 16:43-19:00 R$246 10:33-13:11 R$132\n",
      "     Paulo       GYN 12:18-14:56 R$172 15:07-17:21 R$129\n",
      "Solucao aleatoria:  [[3, 1], [3, 2], [6, 3], [5, 4], [7, 3], [4, 6]]\n",
      "Melhor solucão:  [[6, 3], [3, 3], [6, 3], [5, 4], [5, 3], [4, 6]]\n",
      "Melhor custo:  3038\n",
      "    Amanda       CWB 15:27-17:18 R$151 10:33-12:03 R$ 74\n",
      "     Pedro       GIG 10:30-14:57 R$290 10:51-14:16 R$256\n",
      "    Marcos       POA 15:23-17:25 R$232 10:32-13:16 R$139\n",
      "  Priscila       FLN 14:01-17:24 R$338 12:37-15:05 R$170\n",
      "   Jessica       CNF 14:22-16:32 R$126 10:33-13:11 R$132\n",
      "     Paulo       GYN 12:18-14:56 R$172 15:07-17:21 R$129\n"
     ]
    },
    {
     "data": {
      "text/plain": [
       "[[6, 3], [3, 3], [6, 3], [5, 4], [5, 3], [4, 6]]"
      ]
     },
     "execution_count": 54,
     "metadata": {},
     "output_type": "execute_result"
    }
   ],
   "source": [
    "hill_climb(domino=dominio, funcao_custo=custo)"
   ]
  }
 ],
 "metadata": {
  "interpreter": {
   "hash": "cbe59bc8e43c33e263d0ddce44ad7ec5ba3f57d4d2daa17d616eb06d4130f325"
  },
  "kernelspec": {
   "display_name": "Python 3.9.12 ('ia')",
   "language": "python",
   "name": "python3"
  },
  "language_info": {
   "codemirror_mode": {
    "name": "ipython",
    "version": 3
   },
   "file_extension": ".py",
   "mimetype": "text/x-python",
   "name": "python",
   "nbconvert_exporter": "python",
   "pygments_lexer": "ipython3",
   "version": "3.9.12"
  },
  "orig_nbformat": 4
 },
 "nbformat": 4,
 "nbformat_minor": 2
}
