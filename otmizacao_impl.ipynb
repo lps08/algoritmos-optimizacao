{
 "cells": [
  {
   "cell_type": "code",
   "execution_count": 1,
   "metadata": {},
   "outputs": [],
   "source": [
    "import math\n",
    "import time\n",
    "import random"
   ]
  },
  {
   "cell_type": "code",
   "execution_count": 2,
   "metadata": {},
   "outputs": [],
   "source": [
    "pessoas = [('Amanda', 'CWB'),\n",
    "           ('Pedro', 'GIG'),\n",
    "           ('Marcos', 'POA'),\n",
    "           ('Priscila', 'FLN'),\n",
    "           ('Jessica', 'CNF'),\n",
    "           ('Paulo', 'GYN')]\n",
    "\n",
    "destino = 'GRU'"
   ]
  },
  {
   "cell_type": "code",
   "execution_count": 3,
   "metadata": {},
   "outputs": [],
   "source": [
    "voos = {}\n",
    "\n",
    "for l in open('voos.txt'):\n",
    "    origem, dest, saida, chegada, preco = l.split(',')\n",
    "    voos.setdefault((origem, dest), [])\n",
    "    voos[(origem, dest)].append((saida, chegada, int(preco)))"
   ]
  },
  {
   "cell_type": "code",
   "execution_count": 4,
   "metadata": {},
   "outputs": [
    {
     "name": "stdout",
     "output_type": "stream",
     "text": [
      "    Amanda       CWB  8:04-10:11 R$ 95 10:33-12:03 R$ 74\n",
      "     Pedro       GIG 10:30-14:57 R$290  9:49-13:51 R$229\n",
      "    Marcos       POA 17:08-19:08 R$262 10:32-13:16 R$139\n",
      "  Priscila       FLN 15:34-18:11 R$326 11:08-14:38 R$262\n",
      "   Jessica       CNF  9:42-11:32 R$169 12:08-14:47 R$231\n",
      "     Paulo       GYN 13:37-15:08 R$250 11:07-13:24 R$171\n"
     ]
    }
   ],
   "source": [
    "def print_agenda(agenda):\n",
    "    for idx, voo in enumerate(agenda):\n",
    "        nome = pessoas[idx][0]\n",
    "        origem = pessoas[idx][1]\n",
    "\n",
    "        ida = voos[(origem, destino)][voo[0]]\n",
    "        volta = voos[(destino, origem)][voo[1]]\n",
    "\n",
    "        print(\"%10s%10s %5s-%5s R$%3s %5s-%5s R$%3s\" % (nome, origem, ida[0], ida[1], ida[2],\n",
    "                                                        volta[0], volta[1], volta[2]))\n",
    "\n",
    "agenda = [(1,3), (3, 2), (7,3), (6,3), (2,4), (5,3)]\n",
    "\n",
    "print_agenda(agenda)"
   ]
  },
  {
   "cell_type": "code",
   "execution_count": 5,
   "metadata": {},
   "outputs": [
    {
     "data": {
      "text/plain": [
       "70"
      ]
     },
     "execution_count": 5,
     "metadata": {},
     "output_type": "execute_result"
    }
   ],
   "source": [
    "def get_minutos(hora:str):\n",
    "    tempo = time.strptime(hora, '%H:%M')\n",
    "    return tempo[3] * 60 + tempo[4]\n",
    "\n",
    "get_minutos('1:10')"
   ]
  },
  {
   "cell_type": "code",
   "execution_count": 6,
   "metadata": {},
   "outputs": [],
   "source": [
    "def custo(solucao:list):\n",
    "    preco_total = 0\n",
    "    # menor possível\n",
    "    ultima_chegada = 0\n",
    "    # maior possível\n",
    "    primeira_partida = 1439 #23:59 em minutos\n",
    "    total_espera = 0\n",
    "\n",
    "    for idx, voo in enumerate(solucao):\n",
    "        origem = pessoas[idx][1]\n",
    "\n",
    "        ida = voos[(origem, destino)][voo[0]]\n",
    "        volta = voos[(destino, origem)][voo[1]]\n",
    "\n",
    "        preco_total += ida[2]\n",
    "        preco_total += volta[2]\n",
    "\n",
    "        # atualiza a ultima chegada ao aeroporto\n",
    "        if ultima_chegada < get_minutos(ida[1]):\n",
    "            ultima_chegada = get_minutos(ida[1])\n",
    "\n",
    "        # atualiza com a primeira chegada ao aeroporto\n",
    "        if primeira_partida > get_minutos(volta[0]):\n",
    "            primeira_partida = get_minutos(volta[0])\n",
    "        \n",
    "    for idx, voo in enumerate(solucao):\n",
    "        origem = pessoas[idx][1]\n",
    "\n",
    "        ida = voos[(origem, destino)][voo[0]]\n",
    "        volta = voos[(destino, origem)][voo[1]]\n",
    "\n",
    "        # calcula o tanto de espera no aeroporto\n",
    "        total_espera += ultima_chegada - get_minutos(ida[1])\n",
    "        total_espera += get_minutos(volta[0]) - primeira_partida\n",
    "\n",
    "    # se virou um dia, adiciona penalidade em dinheiro\n",
    "    if ultima_chegada > primeira_partida:\n",
    "        preco_total += 50\n",
    "\n",
    "    return preco_total + total_espera"
   ]
  },
  {
   "cell_type": "code",
   "execution_count": 7,
   "metadata": {},
   "outputs": [
    {
     "data": {
      "text/plain": [
       "4472"
      ]
     },
     "execution_count": 7,
     "metadata": {},
     "output_type": "execute_result"
    }
   ],
   "source": [
    "custo(agenda)"
   ]
  }
 ],
 "metadata": {
  "interpreter": {
   "hash": "cbe59bc8e43c33e263d0ddce44ad7ec5ba3f57d4d2daa17d616eb06d4130f325"
  },
  "kernelspec": {
   "display_name": "Python 3.9.12 ('ia')",
   "language": "python",
   "name": "python3"
  },
  "language_info": {
   "codemirror_mode": {
    "name": "ipython",
    "version": 3
   },
   "file_extension": ".py",
   "mimetype": "text/x-python",
   "name": "python",
   "nbconvert_exporter": "python",
   "pygments_lexer": "ipython3",
   "version": "3.9.12"
  },
  "orig_nbformat": 4
 },
 "nbformat": 4,
 "nbformat_minor": 2
}
