{
 "cells": [
  {
   "cell_type": "code",
   "execution_count": 1,
   "metadata": {},
   "outputs": [],
   "source": [
    "import math\n",
    "import time\n",
    "import random\n",
    "import copy"
   ]
  },
  {
   "cell_type": "markdown",
   "metadata": {},
   "source": [
    "## Problema voos"
   ]
  },
  {
   "cell_type": "code",
   "execution_count": 2,
   "metadata": {},
   "outputs": [],
   "source": [
    "pessoas = [('Amanda', 'CWB'),\n",
    "           ('Pedro', 'GIG'),\n",
    "           ('Marcos', 'POA'),\n",
    "           ('Priscila', 'FLN'),\n",
    "           ('Jessica', 'CNF'),\n",
    "           ('Paulo', 'GYN')]\n",
    "\n",
    "destino = 'GRU'"
   ]
  },
  {
   "cell_type": "code",
   "execution_count": 3,
   "metadata": {},
   "outputs": [],
   "source": [
    "voos = {}\n",
    "\n",
    "for l in open('voos.txt'):\n",
    "    origem, dest, saida, chegada, preco = l.split(',')\n",
    "    voos.setdefault((origem, dest), [])\n",
    "    voos[(origem, dest)].append((saida, chegada, int(preco)))"
   ]
  },
  {
   "cell_type": "code",
   "execution_count": 4,
   "metadata": {},
   "outputs": [
    {
     "name": "stdout",
     "output_type": "stream",
     "text": [
      "    Amanda       CWB  8:04-10:11 R$ 95 10:33-12:03 R$ 74\n",
      "     Pedro       GIG 10:30-14:57 R$290  9:49-13:51 R$229\n",
      "    Marcos       POA 17:08-19:08 R$262 10:32-13:16 R$139\n",
      "  Priscila       FLN 15:34-18:11 R$326 11:08-14:38 R$262\n",
      "   Jessica       CNF  9:42-11:32 R$169 12:08-14:47 R$231\n",
      "     Paulo       GYN 13:37-15:08 R$250 11:07-13:24 R$171\n"
     ]
    }
   ],
   "source": [
    "def print_agenda(agenda):\n",
    "    for idx, voo in enumerate(agenda):\n",
    "        nome = pessoas[idx][0]\n",
    "        origem = pessoas[idx][1]\n",
    "\n",
    "        ida = voos[(origem, destino)][voo[0]]\n",
    "        volta = voos[(destino, origem)][voo[1]]\n",
    "\n",
    "        print(\"%10s%10s %5s-%5s R$%3s %5s-%5s R$%3s\" % (nome, origem, ida[0], ida[1], ida[2],\n",
    "                                                        volta[0], volta[1], volta[2]))\n",
    "\n",
    "agenda = [[1,3], [3, 2], [7,3], [6,3], [2,4], [5,3]]\n",
    "\n",
    "print_agenda(agenda)"
   ]
  },
  {
   "cell_type": "code",
   "execution_count": 5,
   "metadata": {},
   "outputs": [
    {
     "data": {
      "text/plain": [
       "70"
      ]
     },
     "execution_count": 5,
     "metadata": {},
     "output_type": "execute_result"
    }
   ],
   "source": [
    "def get_minutos(hora:str):\n",
    "    tempo = time.strptime(hora, '%H:%M')\n",
    "    return tempo[3] * 60 + tempo[4]\n",
    "\n",
    "get_minutos('1:10')"
   ]
  },
  {
   "cell_type": "code",
   "execution_count": 6,
   "metadata": {},
   "outputs": [],
   "source": [
    "def custo(solucao:list):\n",
    "    preco_total = 0\n",
    "    # menor possível\n",
    "    ultima_chegada = 0\n",
    "    # maior possível\n",
    "    primeira_partida = 1439 #23:59 em minutos\n",
    "    total_espera = 0\n",
    "\n",
    "    for idx, voo in enumerate(solucao):\n",
    "        origem = pessoas[idx][1]\n",
    "\n",
    "        ida = voos[(origem, destino)][voo[0]]\n",
    "        volta = voos[(destino, origem)][voo[1]]\n",
    "\n",
    "        preco_total += ida[2]\n",
    "        preco_total += volta[2]\n",
    "\n",
    "        # atualiza a ultima chegada ao aeroporto\n",
    "        if ultima_chegada < get_minutos(ida[1]):\n",
    "            ultima_chegada = get_minutos(ida[1])\n",
    "\n",
    "        # atualiza com a primeira chegada ao aeroporto\n",
    "        if primeira_partida > get_minutos(volta[0]):\n",
    "            primeira_partida = get_minutos(volta[0])\n",
    "        \n",
    "    for idx, voo in enumerate(solucao):\n",
    "        origem = pessoas[idx][1]\n",
    "\n",
    "        ida = voos[(origem, destino)][voo[0]]\n",
    "        volta = voos[(destino, origem)][voo[1]]\n",
    "\n",
    "        # calcula o tanto de espera no aeroporto\n",
    "        total_espera += ultima_chegada - get_minutos(ida[1])\n",
    "        total_espera += get_minutos(volta[0]) - primeira_partida\n",
    "\n",
    "    # se virou um dia, adiciona penalidade em dinheiro\n",
    "    if ultima_chegada > primeira_partida:\n",
    "        preco_total += 50\n",
    "\n",
    "    return preco_total + total_espera"
   ]
  },
  {
   "cell_type": "code",
   "execution_count": 7,
   "metadata": {},
   "outputs": [
    {
     "data": {
      "text/plain": [
       "4472"
      ]
     },
     "execution_count": 7,
     "metadata": {},
     "output_type": "execute_result"
    }
   ],
   "source": [
    "custo(agenda)"
   ]
  },
  {
   "cell_type": "markdown",
   "metadata": {},
   "source": [
    "## Busca randômica"
   ]
  },
  {
   "cell_type": "code",
   "execution_count": 8,
   "metadata": {},
   "outputs": [
    {
     "data": {
      "text/plain": [
       "[[5, 7], [4, 6], [7, 5], [6, 6], [5, 6], [5, 6]]"
      ]
     },
     "execution_count": 8,
     "metadata": {},
     "output_type": "execute_result"
    }
   ],
   "source": [
    "def busca_randomica(dominio, funcao_custo, numero_solucao):\n",
    "    melhor_custo = 99999999\n",
    "    melhor_solucao = None\n",
    "\n",
    "    for i in range(numero_solucao):\n",
    "        solucao = [[random.randint(dominio[i][0], dominio[i][1]), random.randint(dominio[i][0], dominio[i][1])] for i in range(len(dominio))]\n",
    "\n",
    "        custo = funcao_custo(solucao)\n",
    "\n",
    "        if custo < melhor_custo:\n",
    "            melhor_custo = custo\n",
    "            melhor_solucao = solucao\n",
    "\n",
    "    return melhor_solucao\n",
    "\n",
    "# para cada pessoa, tem-se o numero possivel de voos.\n",
    "dominio = [[0, 9]] * (len(pessoas))\n",
    "\n",
    "busca_randomica(dominio, funcao_custo=custo, numero_solucao=1000)"
   ]
  },
  {
   "cell_type": "markdown",
   "metadata": {},
   "source": [
    "## Hill Climb"
   ]
  },
  {
   "cell_type": "code",
   "execution_count": 9,
   "metadata": {},
   "outputs": [],
   "source": [
    "def hill_climb(domino, funcao_custo):\n",
    "    # gera uma solucao randomica para iniciar o algoritmo\n",
    "    solucao = busca_randomica(dominio=dominio, funcao_custo=funcao_custo,  numero_solucao=1000)\n",
    "\n",
    "    print('Solucao aleatoria: ', solucao)\n",
    "\n",
    "    while True:\n",
    "        vizinhos = []\n",
    "    \n",
    "        for i in range(len(dominio)):\n",
    "            # le cada valor da tupla\n",
    "            for j in range(len(dominio[i])):\n",
    "                 # verifica se o valor é menor que o valor maximo do dominio\n",
    "                if solucao[i][j] < dominio[i][1]:\n",
    "                    # faz uma copida da lista a ser modificado\n",
    "                    novo_vizinho = copy.deepcopy(solucao)\n",
    "                    # modifica o valor da solucao na posica [i][j]\n",
    "                    novo_vizinho[i][j] = novo_vizinho[i][j] + 1\n",
    "                    # adiciona a lista modificada aos vizinhos\n",
    "                    vizinhos.append(novo_vizinho)\n",
    "            \n",
    "                # verifica se o valor é maior que o valor minimo do dominio\n",
    "                if solucao[i][j] > dominio[i][0]:\n",
    "                    # faz uma copida da lista a ser modificado\n",
    "                    novo_vizinho = copy.deepcopy(solucao)\n",
    "                    # modifica o valor da solucao na posica [i][j]\n",
    "                    novo_vizinho[i][j] = novo_vizinho[i][j] - 1\n",
    "                    # adiciona a lista modificada aos vizinhos\n",
    "                    vizinhos.append(novo_vizinho)\n",
    "        # verifica o custo da solucao aleatorea\n",
    "        atual = funcao_custo(solucao)\n",
    "        # adiciona o custo da funcao aleatórea a melhor\n",
    "        melhor = atual\n",
    "\n",
    "        for i in range(len(vizinhos)):\n",
    "            # print(vizinhos[i])\n",
    "            custo = funcao_custo(vizinhos[i])\n",
    "\n",
    "            if custo < melhor:\n",
    "                # atualiza para o melhor custo\n",
    "                melhor = custo\n",
    "                # registra a melhor solucao\n",
    "                solucao = vizinhos[i]\n",
    "\n",
    "        # melhro solucao encontrada\n",
    "        if melhor == atual:\n",
    "            break\n",
    "\n",
    "    print('Melhor solucão: ', solucao)\n",
    "    print('Melhor custo: ', melhor)\n",
    "    print_agenda(agenda=solucao)\n",
    "    \n",
    "    return solucao"
   ]
  },
  {
   "cell_type": "code",
   "execution_count": 10,
   "metadata": {},
   "outputs": [
    {
     "name": "stdout",
     "output_type": "stream",
     "text": [
      "Solucao aleatoria:  [[3, 7], [0, 1], [0, 1], [2, 4], [0, 3], [2, 2]]\n",
      "Melhor solucão:  [[2, 3], [0, 2], [1, 1], [2, 4], [2, 1], [2, 1]]\n",
      "Melhor custo:  2944\n",
      "    Amanda       CWB  9:45-11:50 R$172 10:33-12:03 R$ 74\n",
      "     Pedro       GIG  6:12-10:22 R$230  9:49-13:51 R$229\n",
      "    Marcos       POA  8:27-10:45 R$139  8:19-11:16 R$122\n",
      "  Priscila       FLN  9:15-12:29 R$225 12:37-15:05 R$170\n",
      "   Jessica       CNF  9:42-11:32 R$169  7:50-10:08 R$164\n",
      "     Paulo       GYN  9:15-12:03 R$ 99  8:04-10:59 R$136\n"
     ]
    },
    {
     "data": {
      "text/plain": [
       "[[2, 3], [0, 2], [1, 1], [2, 4], [2, 1], [2, 1]]"
      ]
     },
     "execution_count": 10,
     "metadata": {},
     "output_type": "execute_result"
    }
   ],
   "source": [
    "hill_climb(domino=dominio, funcao_custo=custo)"
   ]
  },
  {
   "cell_type": "markdown",
   "metadata": {},
   "source": [
    "## Simulated Annealing"
   ]
  },
  {
   "cell_type": "code",
   "execution_count": 11,
   "metadata": {},
   "outputs": [],
   "source": [
    "def simulated_annealing(dominio, funcao_custo, temperatura = 10000.0, taxa_resfriamento = 0.95, passo = 1):\n",
    "    # pega uma solucao randomica para inicializar o algoritmo\n",
    "    solucao = busca_randomica(dominio=dominio, funcao_custo=funcao_custo,  numero_solucao=1000)\n",
    "\n",
    "    while temperatura > 0.1:\n",
    "        # escolhe uma posicao aleatoria para fazer a modificacao\n",
    "        random_idx = random.randint(0, len(dominio) - 1)\n",
    "        random_idx_dupla = random.randint(0, 1)\n",
    "\n",
    "        # escolhe a direcao a que quer mudar. Caso passo = 1, posicao randomica entre -1 e 1\n",
    "        direcao = random.randint(-passo, passo) \n",
    "\n",
    "        solucao_mod = copy.deepcopy(solucao)\n",
    "        # modifica a posicao aleatoria gerada\n",
    "        solucao_mod[random_idx][random_idx_dupla] += direcao\n",
    "\n",
    "        # se for negativo, coloca 0\n",
    "        if solucao_mod[random_idx][random_idx_dupla] < dominio[random_idx][0]:\n",
    "            solucao_mod[random_idx][random_idx_dupla] = dominio[random_idx][0]\n",
    "        # se for maior que o max do dominio, coloca o max\n",
    "        elif solucao_mod[random_idx][random_idx_dupla] > dominio[random_idx][1]:\n",
    "            solucao_mod[random_idx][random_idx_dupla] = dominio[random_idx][1]\n",
    "\n",
    "        # calcula os custos\n",
    "        custo_solucao = funcao_custo(solucao)\n",
    "        custo_solucao_mod = funcao_custo(solucao_mod)\n",
    "        \n",
    "        # calcula a probabilidade de escolher uma solucao 'pior'\n",
    "        prob = pow(math.e, (-custo_solucao_mod - custo_solucao) / temperatura)\n",
    "\n",
    "        if custo_solucao_mod < custo_solucao or random.random() < prob:\n",
    "            solucao = solucao_mod\n",
    "\n",
    "        # diminui a temperatura\n",
    "        temperatura *= taxa_resfriamento\n",
    "\n",
    "    print('Melhor solucão: ', solucao)\n",
    "    print('Melhor custo: ', custo_solucao)\n",
    "    print_agenda(agenda=solucao)\n",
    "\n",
    "    return solucao"
   ]
  },
  {
   "cell_type": "code",
   "execution_count": 12,
   "metadata": {},
   "outputs": [
    {
     "name": "stdout",
     "output_type": "stream",
     "text": [
      "Melhor solucão:  [[2, 3], [2, 3], [1, 3], [2, 4], [2, 3], [2, 3]]\n",
      "Melhor custo:  2584\n",
      "    Amanda       CWB  9:45-11:50 R$172 10:33-12:03 R$ 74\n",
      "     Pedro       GIG  9:08-12:12 R$364 10:51-14:16 R$256\n",
      "    Marcos       POA  8:27-10:45 R$139 10:32-13:16 R$139\n",
      "  Priscila       FLN  9:15-12:29 R$225 12:37-15:05 R$170\n",
      "   Jessica       CNF  9:42-11:32 R$169 10:33-13:11 R$132\n",
      "     Paulo       GYN  9:15-12:03 R$ 99 11:07-13:24 R$171\n"
     ]
    },
    {
     "data": {
      "text/plain": [
       "[[2, 3], [2, 3], [1, 3], [2, 4], [2, 3], [2, 3]]"
      ]
     },
     "execution_count": 12,
     "metadata": {},
     "output_type": "execute_result"
    }
   ],
   "source": [
    "simulated_annealing(dominio=dominio, funcao_custo=custo)"
   ]
  },
  {
   "cell_type": "markdown",
   "metadata": {},
   "source": [
    "## Algoritmo Genético"
   ]
  },
  {
   "cell_type": "code",
   "execution_count": 53,
   "metadata": {},
   "outputs": [
    {
     "data": {
      "text/plain": [
       "[[8, 2], [8, 2], [8, 0], [9, 2], [9, 1], [8, 3]]"
      ]
     },
     "execution_count": 53,
     "metadata": {},
     "output_type": "execute_result"
    }
   ],
   "source": [
    "def mutacao(dominio, passo, solucao):\n",
    "    # pega um valor aleatorio para realizar a mutacao\n",
    "    random_idx = random.randint(0, len(solucao) -1)\n",
    "    random_idx_dupla = random.randint(0, 1)\n",
    "\n",
    "    # copia o valor da solucao para a alteracao\n",
    "    mutante = copy.deepcopy(solucao)\n",
    "\n",
    "    # probabilidade de aumentar ou diminuir o valor da mutacao\n",
    "    if random.random() < 0.5:\n",
    "        # verifica se é diferente de 0\n",
    "        if solucao[random_idx][random_idx_dupla] != dominio[random_idx][random_idx_dupla]:\n",
    "            mutante[random_idx][random_idx_dupla] -= passo\n",
    "    else:\n",
    "        # verifica se é diferente de 9\n",
    "        if solucao[random_idx][random_idx_dupla] != dominio[random_idx][random_idx_dupla]:\n",
    "            mutante[random_idx][random_idx_dupla] += passo\n",
    "\n",
    "    return mutante\n",
    "\n",
    "mutacao(dominio=dominio, passo=1, solucao=[[8, 2], [8, 2], [8, 1], [9, 2], [9, 1], [8, 3]])\n"
   ]
  },
  {
   "cell_type": "code",
   "execution_count": 54,
   "metadata": {},
   "outputs": [
    {
     "data": {
      "text/plain": [
       "[[2, 3], [0, 2], [1, 5], [2, 6], [2, 3], [4, 2]]"
      ]
     },
     "execution_count": 54,
     "metadata": {},
     "output_type": "execute_result"
    }
   ],
   "source": [
    "def cruzamento(dominio, individuo1, individuo2):\n",
    "    ponto_corte = random.randint(1, len(dominio) - 1)\n",
    "    return individuo1[0:ponto_corte] + individuo2[ponto_corte:]\n",
    "\n",
    "cruzamento(dominio=dominio,\n",
    "           individuo1=[[2, 3], [0, 2], [1, 5], [2, 6], [2, 3], [2, 3]],\n",
    "           individuo2=[[5, 3], [3, 5], [5, 3], [3, 2], [2, 3], [4, 2]])"
   ]
  },
  {
   "cell_type": "code",
   "execution_count": 67,
   "metadata": {},
   "outputs": [],
   "source": [
    "def genetico(dominio, funcao_custo, tamanho_populacao = 50, passo = 1, prob_mutacao = 0.2,\n",
    "             elitismo = 0.2, numero_geracao = 100):\n",
    "    # gera um numero de populacao aleatoria\n",
    "    populacao = []\n",
    "    for i in range(tamanho_populacao):\n",
    "        populacao.append(busca_randomica(dominio=dominio, funcao_custo=funcao_custo,  numero_solucao=1000))\n",
    "\n",
    "    # numero de individuos que serao selecionados como pais\n",
    "    numero_etilitismo = int(elitismo * tamanho_populacao)\n",
    "\n",
    "    for _ in range(numero_geracao):\n",
    "        # cria uma lista de tuplas com o individuo e seu custo\n",
    "        # para conseguir realizar a ordenacao\n",
    "        custos = [(funcao_custo(individuo), individuo) for individuo in populacao]\n",
    "        custos.sort()\n",
    "        \n",
    "        # pega a relacao de individuos ordenados\n",
    "        individuos_ordenados = [individuo for (_, individuo) in custos]\n",
    "\n",
    "        # pega só os melhores individuos\n",
    "        populacao = individuos_ordenados[0:numero_etilitismo]\n",
    "\n",
    "        # irá criar mais individuos para compor a populacao\n",
    "        while len(populacao) < tamanho_populacao:\n",
    "            # testa a probabilidade de mutacao\n",
    "            if random.random() < prob_mutacao:\n",
    "                # seleciona um idx de um individuo aleatorio\n",
    "                mutacao_idx = random.randint(0, numero_etilitismo)\n",
    "                # adiciona o individuo mutado a populacao\n",
    "                populacao.append(mutacao(dominio=dominio, passo=passo, solucao=individuos_ordenados[mutacao_idx]))\n",
    "            # se nao, realiza o cruzamento entre dois individuos diferentes\n",
    "            else:\n",
    "                ind1 = random.randint(0, numero_etilitismo)\n",
    "                ind2 = random.randint(0, numero_etilitismo)\n",
    "\n",
    "                # verifica se o ind1 é diferente do ind2\n",
    "                if ind1 == ind2:\n",
    "                    # garante que o ind1 vai ser diferente q o ind2\n",
    "                    while ind1 == ind2:\n",
    "                        ind2 = random.randint(0, numero_etilitismo)\n",
    "\n",
    "    print('Melhor solucao: ', custos[0][1])\n",
    "    print('Melhor custo: ', custos[0][0])\n",
    "    print_agenda(agenda=custos[0][1])\n",
    "                \n",
    "    return custos[0]"
   ]
  },
  {
   "cell_type": "code",
   "execution_count": 68,
   "metadata": {},
   "outputs": [
    {
     "name": "stdout",
     "output_type": "stream",
     "text": [
      "Melhor solucao:  [[2, 1], [2, 2], [1, 1], [2, 1], [2, 1], [2, 1]]\n",
      "Melhor custo:  2632\n",
      "    Amanda       CWB  9:45-11:50 R$172  8:23-10:28 R$149\n",
      "     Pedro       GIG  9:08-12:12 R$364  9:49-13:51 R$229\n",
      "    Marcos       POA  8:27-10:45 R$139  8:19-11:16 R$122\n",
      "  Priscila       FLN  9:15-12:29 R$225  8:23-11:07 R$143\n",
      "   Jessica       CNF  9:42-11:32 R$169  7:50-10:08 R$164\n",
      "     Paulo       GYN  9:15-12:03 R$ 99  8:04-10:59 R$136\n"
     ]
    },
    {
     "data": {
      "text/plain": [
       "(2632, [[2, 1], [2, 2], [1, 1], [2, 1], [2, 1], [2, 1]])"
      ]
     },
     "execution_count": 68,
     "metadata": {},
     "output_type": "execute_result"
    }
   ],
   "source": [
    "genetico(dominio=dominio, funcao_custo=custo)"
   ]
  },
  {
   "cell_type": "markdown",
   "metadata": {},
   "source": [
    "## Problema Dormitórios"
   ]
  },
  {
   "cell_type": "code",
   "execution_count": 3,
   "metadata": {},
   "outputs": [],
   "source": [
    "dormitorios = ['sao paulo', 'flamengo', 'coritiba', 'cruzeiro', 'fortaleza']\n",
    "\n",
    "preferencias = {\n",
    "    'amanda' : ('cruzeiro', 'coritiba'),\n",
    "    'pedro' : ('sao paulo', 'fortaleza'),\n",
    "    'marcos' : ('flamengo', 'sao paulo'),\n",
    "    'priscila' : ('sao paulo', 'fortaleza'),\n",
    "    'jessica' : ('flamengo', 'cruzeiro'),\n",
    "    'paulo' : ('coritiba', 'fortaleza'),\n",
    "    'fred' : ('fortaleza', 'flamengo'),\n",
    "    'suzana' : ('cruzeiro', 'coritiba'),\n",
    "    'laura' : ('cruzeiro', 'coritiba'),\n",
    "    'ricardo' : ('coritiba', 'flamengo')\n",
    "}"
   ]
  },
  {
   "cell_type": "code",
   "execution_count": 4,
   "metadata": {},
   "outputs": [
    {
     "data": {
      "text/plain": [
       "[(0, 9),\n",
       " (0, 8),\n",
       " (0, 7),\n",
       " (0, 6),\n",
       " (0, 5),\n",
       " (0, 4),\n",
       " (0, 3),\n",
       " (0, 2),\n",
       " (0, 1),\n",
       " (0, 0)]"
      ]
     },
     "execution_count": 4,
     "metadata": {},
     "output_type": "execute_result"
    }
   ],
   "source": [
    "dominio = [(0, (len(dormitorios) * 2) - i - 1) for i in range(len(dormitorios) * 2)]\n",
    "dominio"
   ]
  }
 ],
 "metadata": {
  "interpreter": {
   "hash": "cbe59bc8e43c33e263d0ddce44ad7ec5ba3f57d4d2daa17d616eb06d4130f325"
  },
  "kernelspec": {
   "display_name": "Python 3.9.12 ('ia')",
   "language": "python",
   "name": "python3"
  },
  "language_info": {
   "codemirror_mode": {
    "name": "ipython",
    "version": 3
   },
   "file_extension": ".py",
   "mimetype": "text/x-python",
   "name": "python",
   "nbconvert_exporter": "python",
   "pygments_lexer": "ipython3",
   "version": "3.9.12"
  },
  "orig_nbformat": 4
 },
 "nbformat": 4,
 "nbformat_minor": 2
}
