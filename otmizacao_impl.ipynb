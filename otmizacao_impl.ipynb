{
 "cells": [
  {
   "cell_type": "code",
   "execution_count": 3,
   "metadata": {},
   "outputs": [],
   "source": [
    "import math\n",
    "import time\n",
    "import random"
   ]
  },
  {
   "cell_type": "code",
   "execution_count": 4,
   "metadata": {},
   "outputs": [],
   "source": [
    "pessoas = [('Amanda', 'CWB'),\n",
    "           ('Pedro', 'GIG'),\n",
    "           ('Marcos', 'POA'),\n",
    "           ('Priscila', 'FLN'),\n",
    "           ('Jessica', 'CNF'),\n",
    "           ('Paulo', 'GYN')]\n",
    "\n",
    "destino = 'GRU'"
   ]
  },
  {
   "cell_type": "code",
   "execution_count": 5,
   "metadata": {},
   "outputs": [],
   "source": [
    "voos = {}\n",
    "\n",
    "for l in open('voos.txt'):\n",
    "    origem, dest, saida, chegada, preco = l.split(',')\n",
    "    voos.setdefault((origem, dest), [])\n",
    "    voos[(origem, dest)].append((saida, chegada, int(preco)))"
   ]
  },
  {
   "cell_type": "code",
   "execution_count": 6,
   "metadata": {},
   "outputs": [
    {
     "name": "stdout",
     "output_type": "stream",
     "text": [
      "    Amanda       CWB  8:04-10:11 R$ 95 10:33-12:03 R$ 74\n",
      "     Pedro       GIG 10:30-14:57 R$290  9:49-13:51 R$229\n",
      "    Marcos       POA 17:08-19:08 R$262 10:32-13:16 R$139\n",
      "  Priscila       FLN 15:34-18:11 R$326 11:08-14:38 R$262\n",
      "   Jessica       CNF  9:42-11:32 R$169 12:08-14:47 R$231\n",
      "     Paulo       GYN 13:37-15:08 R$250 11:07-13:24 R$171\n"
     ]
    }
   ],
   "source": [
    "def print_agenda(agenda):\n",
    "    for idx, voo in enumerate(agenda):\n",
    "        nome = pessoas[idx][0]\n",
    "        origem = pessoas[idx][1]\n",
    "\n",
    "        ida = voos[(origem, destino)][voo[0]]\n",
    "        volta = voos[(destino, origem)][voo[1]]\n",
    "\n",
    "        print(\"%10s%10s %5s-%5s R$%3s %5s-%5s R$%3s\" % (nome, origem, ida[0], ida[1], ida[2],\n",
    "                                                        volta[0], volta[1], volta[2]))\n",
    "\n",
    "agenda = [(1,3), (3, 2), (7,3), (6,3), (2,4), (5,3)]\n",
    "\n",
    "print_agenda(agenda)"
   ]
  },
  {
   "cell_type": "code",
   "execution_count": 7,
   "metadata": {},
   "outputs": [
    {
     "data": {
      "text/plain": [
       "70"
      ]
     },
     "execution_count": 7,
     "metadata": {},
     "output_type": "execute_result"
    }
   ],
   "source": [
    "def get_minutos(hora:str):\n",
    "    tempo = time.strptime(hora, '%H:%M')\n",
    "    return tempo[3] * 60 + tempo[4]\n",
    "\n",
    "get_minutos('1:10')"
   ]
  },
  {
   "cell_type": "code",
   "execution_count": 8,
   "metadata": {},
   "outputs": [],
   "source": [
    "def custo(solucao:list):\n",
    "    preco_total = 0\n",
    "    # menor possível\n",
    "    ultima_chegada = 0\n",
    "    # maior possível\n",
    "    primeira_partida = 1439 #23:59 em minutos\n",
    "    total_espera = 0\n",
    "\n",
    "    for idx, voo in enumerate(solucao):\n",
    "        origem = pessoas[idx][1]\n",
    "\n",
    "        ida = voos[(origem, destino)][voo[0]]\n",
    "        volta = voos[(destino, origem)][voo[1]]\n",
    "\n",
    "        preco_total += ida[2]\n",
    "        preco_total += volta[2]\n",
    "\n",
    "        # atualiza a ultima chegada ao aeroporto\n",
    "        if ultima_chegada < get_minutos(ida[1]):\n",
    "            ultima_chegada = get_minutos(ida[1])\n",
    "\n",
    "        # atualiza com a primeira chegada ao aeroporto\n",
    "        if primeira_partida > get_minutos(volta[0]):\n",
    "            primeira_partida = get_minutos(volta[0])\n",
    "        \n",
    "    for idx, voo in enumerate(solucao):\n",
    "        origem = pessoas[idx][1]\n",
    "\n",
    "        ida = voos[(origem, destino)][voo[0]]\n",
    "        volta = voos[(destino, origem)][voo[1]]\n",
    "\n",
    "        # calcula o tanto de espera no aeroporto\n",
    "        total_espera += ultima_chegada - get_minutos(ida[1])\n",
    "        total_espera += get_minutos(volta[0]) - primeira_partida\n",
    "\n",
    "    # se virou um dia, adiciona penalidade em dinheiro\n",
    "    if ultima_chegada > primeira_partida:\n",
    "        preco_total += 50\n",
    "\n",
    "    return preco_total + total_espera"
   ]
  },
  {
   "cell_type": "code",
   "execution_count": 9,
   "metadata": {},
   "outputs": [
    {
     "data": {
      "text/plain": [
       "4472"
      ]
     },
     "execution_count": 9,
     "metadata": {},
     "output_type": "execute_result"
    }
   ],
   "source": [
    "custo(agenda)"
   ]
  },
  {
   "cell_type": "markdown",
   "metadata": {},
   "source": [
    "## Busca randômica"
   ]
  },
  {
   "cell_type": "code",
   "execution_count": 18,
   "metadata": {},
   "outputs": [
    {
     "name": "stdout",
     "output_type": "stream",
     "text": [
      "Melhor solução:  [(7, 3), (5, 3), (8, 5), (7, 3), (5, 7), (8, 4)]\n",
      "Custo solução:  3661\n",
      "    Amanda       CWB 17:11-18:30 R$108 10:33-12:03 R$ 74\n",
      "     Pedro       GIG 13:54-18:02 R$294 10:51-14:16 R$256\n",
      "    Marcos       POA 18:35-20:28 R$204 13:37-15:33 R$142\n",
      "  Priscila       FLN 17:07-20:04 R$291 11:08-14:38 R$262\n",
      "   Jessica       CNF 14:22-16:32 R$126 17:06-20:00 R$ 95\n",
      "     Paulo       GYN 18:12-20:17 R$242 12:31-14:02 R$234\n"
     ]
    },
    {
     "data": {
      "text/plain": [
       "[(7, 3), (5, 3), (8, 5), (7, 3), (5, 7), (8, 4)]"
      ]
     },
     "execution_count": 18,
     "metadata": {},
     "output_type": "execute_result"
    }
   ],
   "source": [
    "def busca_randomica(dominio, funcao_custo, numero_solucao):\n",
    "    melhor_custo = 99999999\n",
    "    melhor_solucao = None\n",
    "\n",
    "    for i in range(numero_solucao):\n",
    "        solucao = [(random.randint(dominio[i][0], dominio[i][1]), random.randint(dominio[i][0], dominio[i][1])) for i in range(len(dominio))]\n",
    "\n",
    "        custo = funcao_custo(solucao)\n",
    "\n",
    "        if custo < melhor_custo:\n",
    "            melhor_custo = custo\n",
    "            melhor_solucao = solucao\n",
    "\n",
    "    print('Melhor solução: ', melhor_solucao)\n",
    "    print('Custo solução: ', melhor_custo)\n",
    "    print_agenda(melhor_solucao)\n",
    "\n",
    "    return melhor_solucao\n",
    "\n",
    "# para cada pessoa, tem-se o numero possivel de voos.\n",
    "dominio = [(0, 9)] * (len(pessoas))\n",
    "\n",
    "busca_randomica(dominio, funcao_custo=custo, numero_solucao=1000)"
   ]
  },
  {
   "cell_type": "code",
   "execution_count": null,
   "metadata": {},
   "outputs": [],
   "source": []
  }
 ],
 "metadata": {
  "interpreter": {
   "hash": "cbe59bc8e43c33e263d0ddce44ad7ec5ba3f57d4d2daa17d616eb06d4130f325"
  },
  "kernelspec": {
   "display_name": "Python 3.9.12 ('ia')",
   "language": "python",
   "name": "python3"
  },
  "language_info": {
   "codemirror_mode": {
    "name": "ipython",
    "version": 3
   },
   "file_extension": ".py",
   "mimetype": "text/x-python",
   "name": "python",
   "nbconvert_exporter": "python",
   "pygments_lexer": "ipython3",
   "version": "3.9.12"
  },
  "orig_nbformat": 4
 },
 "nbformat": 4,
 "nbformat_minor": 2
}
